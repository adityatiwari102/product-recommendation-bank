{
 "cells": [
  {
   "cell_type": "code",
   "execution_count": 21,
   "id": "b611bb7b",
   "metadata": {},
   "outputs": [],
   "source": [
    "import pandas as pd\n",
    "import numpy as np\n",
    "import matplotlib.pyplot as plt\n",
    "from sklearn.model_selection import train_test_split, GridSearchCV\n",
    "from sklearn.preprocessing import LabelEncoder, StandardScaler\n",
    "from sklearn.metrics import confusion_matrix, classification_report, accuracy_score\n",
    "from sklearn.ensemble import RandomForestClassifier\n",
    "from sklearn.svm import SVC"
   ]
  },
  {
   "cell_type": "code",
   "execution_count": 2,
   "id": "4ead3fed",
   "metadata": {
    "scrolled": true
   },
   "outputs": [
    {
     "data": {
      "text/html": [
       "<div>\n",
       "<style scoped>\n",
       "    .dataframe tbody tr th:only-of-type {\n",
       "        vertical-align: middle;\n",
       "    }\n",
       "\n",
       "    .dataframe tbody tr th {\n",
       "        vertical-align: top;\n",
       "    }\n",
       "\n",
       "    .dataframe thead th {\n",
       "        text-align: right;\n",
       "    }\n",
       "</style>\n",
       "<table border=\"1\" class=\"dataframe\">\n",
       "  <thead>\n",
       "    <tr style=\"text-align: right;\">\n",
       "      <th></th>\n",
       "      <th>AGE</th>\n",
       "      <th>CUS_Month_Income</th>\n",
       "      <th>CUS_Gender</th>\n",
       "      <th>CUS_Marital_Status</th>\n",
       "      <th>YEARS_WITH_US</th>\n",
       "      <th>total_debit_tran_s1</th>\n",
       "      <th>total_debit_tran_s2</th>\n",
       "      <th>total_debit_tran_s3</th>\n",
       "      <th>total debit amount for S1</th>\n",
       "      <th>total debit amount for S2</th>\n",
       "      <th>...</th>\n",
       "      <th>total credit amount for S2</th>\n",
       "      <th>total credit amount for S3</th>\n",
       "      <th>total debit amount</th>\n",
       "      <th>total debit transactions</th>\n",
       "      <th>total credit amount</th>\n",
       "      <th>total credit transactions</th>\n",
       "      <th>total transactions</th>\n",
       "      <th>CUS_Target</th>\n",
       "      <th>TAR_Desc</th>\n",
       "      <th>Status</th>\n",
       "    </tr>\n",
       "  </thead>\n",
       "  <tbody>\n",
       "    <tr>\n",
       "      <th>0</th>\n",
       "      <td>48</td>\n",
       "      <td>3750000.0</td>\n",
       "      <td>FEMALE</td>\n",
       "      <td>SINGLE</td>\n",
       "      <td>14</td>\n",
       "      <td>40</td>\n",
       "      <td>48</td>\n",
       "      <td>33</td>\n",
       "      <td>50302.37</td>\n",
       "      <td>72102.31</td>\n",
       "      <td>...</td>\n",
       "      <td>78986.72</td>\n",
       "      <td>59854.68</td>\n",
       "      <td>175007.95</td>\n",
       "      <td>121</td>\n",
       "      <td>196499.28</td>\n",
       "      <td>46</td>\n",
       "      <td>167</td>\n",
       "      <td>2223</td>\n",
       "      <td>LOW</td>\n",
       "      <td>0</td>\n",
       "    </tr>\n",
       "    <tr>\n",
       "      <th>1</th>\n",
       "      <td>53</td>\n",
       "      <td>10000000.0</td>\n",
       "      <td>MALE</td>\n",
       "      <td>SINGLE</td>\n",
       "      <td>14</td>\n",
       "      <td>3</td>\n",
       "      <td>17</td>\n",
       "      <td>52</td>\n",
       "      <td>4209.00</td>\n",
       "      <td>38719.60</td>\n",
       "      <td>...</td>\n",
       "      <td>109058.00</td>\n",
       "      <td>92939.00</td>\n",
       "      <td>68690.60</td>\n",
       "      <td>72</td>\n",
       "      <td>317436.00</td>\n",
       "      <td>25</td>\n",
       "      <td>97</td>\n",
       "      <td>2223</td>\n",
       "      <td>LOW</td>\n",
       "      <td>0</td>\n",
       "    </tr>\n",
       "    <tr>\n",
       "      <th>2</th>\n",
       "      <td>43</td>\n",
       "      <td>2000000.0</td>\n",
       "      <td>MALE</td>\n",
       "      <td>SINGLE</td>\n",
       "      <td>14</td>\n",
       "      <td>5</td>\n",
       "      <td>14</td>\n",
       "      <td>20</td>\n",
       "      <td>5311.83</td>\n",
       "      <td>57480.30</td>\n",
       "      <td>...</td>\n",
       "      <td>0.00</td>\n",
       "      <td>0.00</td>\n",
       "      <td>120146.98</td>\n",
       "      <td>39</td>\n",
       "      <td>0.00</td>\n",
       "      <td>0</td>\n",
       "      <td>39</td>\n",
       "      <td>2223</td>\n",
       "      <td>LOW</td>\n",
       "      <td>0</td>\n",
       "    </tr>\n",
       "    <tr>\n",
       "      <th>3</th>\n",
       "      <td>43</td>\n",
       "      <td>486.0</td>\n",
       "      <td>MALE</td>\n",
       "      <td>SINGLE</td>\n",
       "      <td>14</td>\n",
       "      <td>1</td>\n",
       "      <td>1</td>\n",
       "      <td>0</td>\n",
       "      <td>3657.91</td>\n",
       "      <td>175.00</td>\n",
       "      <td>...</td>\n",
       "      <td>84356.94</td>\n",
       "      <td>0.00</td>\n",
       "      <td>3832.91</td>\n",
       "      <td>2</td>\n",
       "      <td>84356.94</td>\n",
       "      <td>1</td>\n",
       "      <td>3</td>\n",
       "      <td>2222</td>\n",
       "      <td>MIDLE</td>\n",
       "      <td>0</td>\n",
       "    </tr>\n",
       "    <tr>\n",
       "      <th>4</th>\n",
       "      <td>27</td>\n",
       "      <td>180000.0</td>\n",
       "      <td>FEMALE</td>\n",
       "      <td>SINGLE</td>\n",
       "      <td>14</td>\n",
       "      <td>0</td>\n",
       "      <td>7</td>\n",
       "      <td>1</td>\n",
       "      <td>0.00</td>\n",
       "      <td>72143.60</td>\n",
       "      <td>...</td>\n",
       "      <td>12000.00</td>\n",
       "      <td>0.00</td>\n",
       "      <td>72643.60</td>\n",
       "      <td>8</td>\n",
       "      <td>12000.00</td>\n",
       "      <td>2</td>\n",
       "      <td>10</td>\n",
       "      <td>2222</td>\n",
       "      <td>MIDLE</td>\n",
       "      <td>1</td>\n",
       "    </tr>\n",
       "  </tbody>\n",
       "</table>\n",
       "<p>5 rows × 25 columns</p>\n",
       "</div>"
      ],
      "text/plain": [
       "   AGE  CUS_Month_Income CUS_Gender CUS_Marital_Status  YEARS_WITH_US  \\\n",
       "0   48         3750000.0     FEMALE             SINGLE             14   \n",
       "1   53        10000000.0       MALE             SINGLE             14   \n",
       "2   43         2000000.0       MALE             SINGLE             14   \n",
       "3   43             486.0       MALE             SINGLE             14   \n",
       "4   27          180000.0     FEMALE             SINGLE             14   \n",
       "\n",
       "   total_debit_tran_s1  total_debit_tran_s2  total_debit_tran_s3  \\\n",
       "0                   40                   48                   33   \n",
       "1                    3                   17                   52   \n",
       "2                    5                   14                   20   \n",
       "3                    1                    1                    0   \n",
       "4                    0                    7                    1   \n",
       "\n",
       "   total debit amount for S1  total debit amount for S2  ...  \\\n",
       "0                   50302.37                   72102.31  ...   \n",
       "1                    4209.00                   38719.60  ...   \n",
       "2                    5311.83                   57480.30  ...   \n",
       "3                    3657.91                     175.00  ...   \n",
       "4                       0.00                   72143.60  ...   \n",
       "\n",
       "   total credit amount for S2  total credit amount for S3  total debit amount  \\\n",
       "0                    78986.72                    59854.68           175007.95   \n",
       "1                   109058.00                    92939.00            68690.60   \n",
       "2                        0.00                        0.00           120146.98   \n",
       "3                    84356.94                        0.00             3832.91   \n",
       "4                    12000.00                        0.00            72643.60   \n",
       "\n",
       "   total debit transactions  total credit amount  total credit transactions  \\\n",
       "0                       121            196499.28                         46   \n",
       "1                        72            317436.00                         25   \n",
       "2                        39                 0.00                          0   \n",
       "3                         2             84356.94                          1   \n",
       "4                         8             12000.00                          2   \n",
       "\n",
       "   total transactions  CUS_Target  TAR_Desc  Status  \n",
       "0                 167        2223       LOW       0  \n",
       "1                  97        2223       LOW       0  \n",
       "2                  39        2223       LOW       0  \n",
       "3                   3        2222     MIDLE       0  \n",
       "4                  10        2222     MIDLE       1  \n",
       "\n",
       "[5 rows x 25 columns]"
      ]
     },
     "execution_count": 2,
     "metadata": {},
     "output_type": "execute_result"
    }
   ],
   "source": [
    "data = pd.read_csv('bank_churn_data_exp.csv')\n",
    "data.head()"
   ]
  },
  {
   "cell_type": "code",
   "execution_count": 3,
   "id": "fd222244",
   "metadata": {},
   "outputs": [
    {
     "data": {
      "text/plain": [
       "LOW          1312\n",
       "MIDLE         609\n",
       "EXECUTIVE      60\n",
       "PLATINUM       49\n",
       "Name: TAR_Desc, dtype: int64"
      ]
     },
     "execution_count": 3,
     "metadata": {},
     "output_type": "execute_result"
    }
   ],
   "source": [
    "data.TAR_Desc.value_counts()"
   ]
  },
  {
   "cell_type": "code",
   "execution_count": 4,
   "id": "2960770e",
   "metadata": {},
   "outputs": [],
   "source": [
    "le = LabelEncoder()\n",
    "\n",
    "data['CUS_Marital_Status'] = le.fit_transform(data['CUS_Marital_Status'])\n",
    "data['CUS_Gender'] = le.fit_transform(data['CUS_Gender'])\n",
    "data['TAR_Desc'] = le.fit_transform(data['TAR_Desc'])"
   ]
  },
  {
   "cell_type": "code",
   "execution_count": 43,
   "id": "8bd757fa",
   "metadata": {},
   "outputs": [
    {
     "name": "stdout",
     "output_type": "stream",
     "text": [
      "1    1269\n",
      "0     761\n",
      "Name: CUS_Gender, dtype: int64\n",
      "4    1506\n",
      "1     469\n",
      "0      37\n",
      "5      16\n",
      "2       1\n",
      "3       1\n",
      "Name: CUS_Marital_Status, dtype: int64\n",
      "1    1312\n",
      "2     609\n",
      "0      60\n",
      "3      49\n",
      "Name: TAR_Desc, dtype: int64\n",
      "0    1015\n",
      "1    1015\n",
      "Name: Status, dtype: int64\n"
     ]
    }
   ],
   "source": [
    "print(data.CUS_Gender.value_counts())\n",
    "print(data.CUS_Marital_Status.value_counts())\n",
    "print(data.TAR_Desc.value_counts())\n",
    "print(data.Status.value_counts())"
   ]
  },
  {
   "cell_type": "code",
   "execution_count": null,
   "id": "9bbe5618",
   "metadata": {},
   "outputs": [],
   "source": []
  },
  {
   "cell_type": "code",
   "execution_count": 6,
   "id": "e8c25b3c",
   "metadata": {},
   "outputs": [
    {
     "data": {
      "text/html": [
       "<div>\n",
       "<style scoped>\n",
       "    .dataframe tbody tr th:only-of-type {\n",
       "        vertical-align: middle;\n",
       "    }\n",
       "\n",
       "    .dataframe tbody tr th {\n",
       "        vertical-align: top;\n",
       "    }\n",
       "\n",
       "    .dataframe thead th {\n",
       "        text-align: right;\n",
       "    }\n",
       "</style>\n",
       "<table border=\"1\" class=\"dataframe\">\n",
       "  <thead>\n",
       "    <tr style=\"text-align: right;\">\n",
       "      <th></th>\n",
       "      <th>AGE</th>\n",
       "      <th>CUS_Month_Income</th>\n",
       "      <th>CUS_Gender</th>\n",
       "      <th>CUS_Marital_Status</th>\n",
       "      <th>YEARS_WITH_US</th>\n",
       "      <th>total_debit_tran_s1</th>\n",
       "      <th>total_debit_tran_s2</th>\n",
       "      <th>total_debit_tran_s3</th>\n",
       "      <th>total debit amount for S1</th>\n",
       "      <th>total debit amount for S2</th>\n",
       "      <th>...</th>\n",
       "      <th>total credit amount for S2</th>\n",
       "      <th>total credit amount for S3</th>\n",
       "      <th>total debit amount</th>\n",
       "      <th>total debit transactions</th>\n",
       "      <th>total credit amount</th>\n",
       "      <th>total credit transactions</th>\n",
       "      <th>total transactions</th>\n",
       "      <th>CUS_Target</th>\n",
       "      <th>TAR_Desc</th>\n",
       "      <th>Status</th>\n",
       "    </tr>\n",
       "  </thead>\n",
       "  <tbody>\n",
       "    <tr>\n",
       "      <th>0</th>\n",
       "      <td>48</td>\n",
       "      <td>3750000.0</td>\n",
       "      <td>0</td>\n",
       "      <td>4</td>\n",
       "      <td>14</td>\n",
       "      <td>40</td>\n",
       "      <td>48</td>\n",
       "      <td>33</td>\n",
       "      <td>50302.37</td>\n",
       "      <td>72102.31</td>\n",
       "      <td>...</td>\n",
       "      <td>78986.72</td>\n",
       "      <td>59854.68</td>\n",
       "      <td>175007.95</td>\n",
       "      <td>121</td>\n",
       "      <td>196499.28</td>\n",
       "      <td>46</td>\n",
       "      <td>167</td>\n",
       "      <td>2223</td>\n",
       "      <td>1</td>\n",
       "      <td>0</td>\n",
       "    </tr>\n",
       "    <tr>\n",
       "      <th>1</th>\n",
       "      <td>53</td>\n",
       "      <td>10000000.0</td>\n",
       "      <td>1</td>\n",
       "      <td>4</td>\n",
       "      <td>14</td>\n",
       "      <td>3</td>\n",
       "      <td>17</td>\n",
       "      <td>52</td>\n",
       "      <td>4209.00</td>\n",
       "      <td>38719.60</td>\n",
       "      <td>...</td>\n",
       "      <td>109058.00</td>\n",
       "      <td>92939.00</td>\n",
       "      <td>68690.60</td>\n",
       "      <td>72</td>\n",
       "      <td>317436.00</td>\n",
       "      <td>25</td>\n",
       "      <td>97</td>\n",
       "      <td>2223</td>\n",
       "      <td>1</td>\n",
       "      <td>0</td>\n",
       "    </tr>\n",
       "    <tr>\n",
       "      <th>2</th>\n",
       "      <td>43</td>\n",
       "      <td>2000000.0</td>\n",
       "      <td>1</td>\n",
       "      <td>4</td>\n",
       "      <td>14</td>\n",
       "      <td>5</td>\n",
       "      <td>14</td>\n",
       "      <td>20</td>\n",
       "      <td>5311.83</td>\n",
       "      <td>57480.30</td>\n",
       "      <td>...</td>\n",
       "      <td>0.00</td>\n",
       "      <td>0.00</td>\n",
       "      <td>120146.98</td>\n",
       "      <td>39</td>\n",
       "      <td>0.00</td>\n",
       "      <td>0</td>\n",
       "      <td>39</td>\n",
       "      <td>2223</td>\n",
       "      <td>1</td>\n",
       "      <td>0</td>\n",
       "    </tr>\n",
       "    <tr>\n",
       "      <th>3</th>\n",
       "      <td>43</td>\n",
       "      <td>486.0</td>\n",
       "      <td>1</td>\n",
       "      <td>4</td>\n",
       "      <td>14</td>\n",
       "      <td>1</td>\n",
       "      <td>1</td>\n",
       "      <td>0</td>\n",
       "      <td>3657.91</td>\n",
       "      <td>175.00</td>\n",
       "      <td>...</td>\n",
       "      <td>84356.94</td>\n",
       "      <td>0.00</td>\n",
       "      <td>3832.91</td>\n",
       "      <td>2</td>\n",
       "      <td>84356.94</td>\n",
       "      <td>1</td>\n",
       "      <td>3</td>\n",
       "      <td>2222</td>\n",
       "      <td>2</td>\n",
       "      <td>0</td>\n",
       "    </tr>\n",
       "    <tr>\n",
       "      <th>4</th>\n",
       "      <td>27</td>\n",
       "      <td>180000.0</td>\n",
       "      <td>0</td>\n",
       "      <td>4</td>\n",
       "      <td>14</td>\n",
       "      <td>0</td>\n",
       "      <td>7</td>\n",
       "      <td>1</td>\n",
       "      <td>0.00</td>\n",
       "      <td>72143.60</td>\n",
       "      <td>...</td>\n",
       "      <td>12000.00</td>\n",
       "      <td>0.00</td>\n",
       "      <td>72643.60</td>\n",
       "      <td>8</td>\n",
       "      <td>12000.00</td>\n",
       "      <td>2</td>\n",
       "      <td>10</td>\n",
       "      <td>2222</td>\n",
       "      <td>2</td>\n",
       "      <td>1</td>\n",
       "    </tr>\n",
       "  </tbody>\n",
       "</table>\n",
       "<p>5 rows × 25 columns</p>\n",
       "</div>"
      ],
      "text/plain": [
       "   AGE  CUS_Month_Income  CUS_Gender  CUS_Marital_Status  YEARS_WITH_US  \\\n",
       "0   48         3750000.0           0                   4             14   \n",
       "1   53        10000000.0           1                   4             14   \n",
       "2   43         2000000.0           1                   4             14   \n",
       "3   43             486.0           1                   4             14   \n",
       "4   27          180000.0           0                   4             14   \n",
       "\n",
       "   total_debit_tran_s1  total_debit_tran_s2  total_debit_tran_s3  \\\n",
       "0                   40                   48                   33   \n",
       "1                    3                   17                   52   \n",
       "2                    5                   14                   20   \n",
       "3                    1                    1                    0   \n",
       "4                    0                    7                    1   \n",
       "\n",
       "   total debit amount for S1  total debit amount for S2  ...  \\\n",
       "0                   50302.37                   72102.31  ...   \n",
       "1                    4209.00                   38719.60  ...   \n",
       "2                    5311.83                   57480.30  ...   \n",
       "3                    3657.91                     175.00  ...   \n",
       "4                       0.00                   72143.60  ...   \n",
       "\n",
       "   total credit amount for S2  total credit amount for S3  total debit amount  \\\n",
       "0                    78986.72                    59854.68           175007.95   \n",
       "1                   109058.00                    92939.00            68690.60   \n",
       "2                        0.00                        0.00           120146.98   \n",
       "3                    84356.94                        0.00             3832.91   \n",
       "4                    12000.00                        0.00            72643.60   \n",
       "\n",
       "   total debit transactions  total credit amount  total credit transactions  \\\n",
       "0                       121            196499.28                         46   \n",
       "1                        72            317436.00                         25   \n",
       "2                        39                 0.00                          0   \n",
       "3                         2             84356.94                          1   \n",
       "4                         8             12000.00                          2   \n",
       "\n",
       "   total transactions  CUS_Target  TAR_Desc  Status  \n",
       "0                 167        2223         1       0  \n",
       "1                  97        2223         1       0  \n",
       "2                  39        2223         1       0  \n",
       "3                   3        2222         2       0  \n",
       "4                  10        2222         2       1  \n",
       "\n",
       "[5 rows x 25 columns]"
      ]
     },
     "execution_count": 6,
     "metadata": {},
     "output_type": "execute_result"
    }
   ],
   "source": [
    "data.head()"
   ]
  },
  {
   "cell_type": "code",
   "execution_count": 8,
   "id": "0e69770f",
   "metadata": {},
   "outputs": [],
   "source": [
    "X = data.drop(['Status'], axis=1)\n",
    "y = data['Status']"
   ]
  },
  {
   "cell_type": "code",
   "execution_count": 9,
   "id": "fa057918",
   "metadata": {},
   "outputs": [
    {
     "data": {
      "text/plain": [
       "(2030, 24)"
      ]
     },
     "execution_count": 9,
     "metadata": {},
     "output_type": "execute_result"
    }
   ],
   "source": [
    "X.shape"
   ]
  },
  {
   "cell_type": "code",
   "execution_count": 10,
   "id": "8708b6c2",
   "metadata": {},
   "outputs": [],
   "source": [
    "Xtrain, Xtest, ytrain, ytest = train_test_split(X,y, train_size= 0.8, random_state= 42)"
   ]
  },
  {
   "cell_type": "code",
   "execution_count": 11,
   "id": "2ab1ba2d",
   "metadata": {},
   "outputs": [],
   "source": [
    "rfc = RandomForestClassifier(n_estimators= 30, n_jobs= -1)"
   ]
  },
  {
   "cell_type": "code",
   "execution_count": 12,
   "id": "569f8d16",
   "metadata": {},
   "outputs": [
    {
     "data": {
      "text/plain": [
       "RandomForestClassifier(n_estimators=30, n_jobs=-1)"
      ]
     },
     "execution_count": 12,
     "metadata": {},
     "output_type": "execute_result"
    }
   ],
   "source": [
    "rfc.fit(Xtrain,ytrain)"
   ]
  },
  {
   "cell_type": "code",
   "execution_count": 13,
   "id": "2563f70c",
   "metadata": {},
   "outputs": [],
   "source": [
    "ypred = rfc.predict(Xtest)"
   ]
  },
  {
   "cell_type": "code",
   "execution_count": 14,
   "id": "988333a2",
   "metadata": {},
   "outputs": [
    {
     "name": "stdout",
     "output_type": "stream",
     "text": [
      "Accuracy Score:  0.9655172413793104\n"
     ]
    }
   ],
   "source": [
    "print('Accuracy Score: ', accuracy_score(ypred, ytest))"
   ]
  },
  {
   "cell_type": "code",
   "execution_count": 15,
   "id": "05e56c62",
   "metadata": {},
   "outputs": [
    {
     "name": "stdout",
     "output_type": "stream",
     "text": [
      "[[195   4]\n",
      " [ 10 197]]\n"
     ]
    }
   ],
   "source": [
    "print(confusion_matrix(ypred, ytest))"
   ]
  },
  {
   "cell_type": "code",
   "execution_count": 16,
   "id": "36821f54",
   "metadata": {},
   "outputs": [
    {
     "name": "stdout",
     "output_type": "stream",
     "text": [
      "              precision    recall  f1-score   support\n",
      "\n",
      "           0       0.95      0.98      0.97       199\n",
      "           1       0.98      0.95      0.97       207\n",
      "\n",
      "    accuracy                           0.97       406\n",
      "   macro avg       0.97      0.97      0.97       406\n",
      "weighted avg       0.97      0.97      0.97       406\n",
      "\n"
     ]
    }
   ],
   "source": [
    "print(classification_report(ypred, ytest))"
   ]
  },
  {
   "cell_type": "markdown",
   "id": "46a9a7b7",
   "metadata": {},
   "source": [
    "The accuracy increased by 1%, from 94% to 96% and this could be the issue of overfitting and multi colinearity so we have to drop the less important features from the dataset."
   ]
  },
  {
   "cell_type": "code",
   "execution_count": 24,
   "id": "d4a59445",
   "metadata": {},
   "outputs": [
    {
     "data": {
      "text/plain": [
       "Index(['AGE', 'CUS_Month_Income', 'CUS_Gender', 'CUS_Marital_Status',\n",
       "       'YEARS_WITH_US', 'total_debit_tran_s1', 'total_debit_tran_s2',\n",
       "       'total_debit_tran_s3', 'total debit amount for S1',\n",
       "       'total debit amount for S2', 'total debit amount for S3',\n",
       "       'total_cred_trans_s1', 'total_cred_trans_s2', 'total_cred_trans_s3',\n",
       "       'total credit amount for S1', 'total credit amount for S2',\n",
       "       'total credit amount for S3', 'total debit amount',\n",
       "       'total debit transactions', 'total credit amount',\n",
       "       'total credit transactions', 'total transactions', 'CUS_Target',\n",
       "       'TAR_Desc', 'Status'],\n",
       "      dtype='object')"
      ]
     },
     "execution_count": 24,
     "metadata": {},
     "output_type": "execute_result"
    }
   ],
   "source": [
    "data.columns"
   ]
  },
  {
   "cell_type": "code",
   "execution_count": 34,
   "id": "154bfef0",
   "metadata": {},
   "outputs": [],
   "source": [
    "data_imp_feat = data[['CUS_Month_Income', 'total_debit_tran_s1', 'total_debit_tran_s3',\n",
    "                           'total debit amount for S3','TAR_Desc', 'Status']]"
   ]
  },
  {
   "cell_type": "code",
   "execution_count": 35,
   "id": "f563fb88",
   "metadata": {},
   "outputs": [
    {
     "data": {
      "text/html": [
       "<div>\n",
       "<style scoped>\n",
       "    .dataframe tbody tr th:only-of-type {\n",
       "        vertical-align: middle;\n",
       "    }\n",
       "\n",
       "    .dataframe tbody tr th {\n",
       "        vertical-align: top;\n",
       "    }\n",
       "\n",
       "    .dataframe thead th {\n",
       "        text-align: right;\n",
       "    }\n",
       "</style>\n",
       "<table border=\"1\" class=\"dataframe\">\n",
       "  <thead>\n",
       "    <tr style=\"text-align: right;\">\n",
       "      <th></th>\n",
       "      <th>CUS_Month_Income</th>\n",
       "      <th>total_debit_tran_s1</th>\n",
       "      <th>total_debit_tran_s3</th>\n",
       "      <th>total debit amount for S3</th>\n",
       "      <th>TAR_Desc</th>\n",
       "      <th>Status</th>\n",
       "    </tr>\n",
       "  </thead>\n",
       "  <tbody>\n",
       "    <tr>\n",
       "      <th>0</th>\n",
       "      <td>3750000.0</td>\n",
       "      <td>40</td>\n",
       "      <td>33</td>\n",
       "      <td>52603.27</td>\n",
       "      <td>1</td>\n",
       "      <td>0</td>\n",
       "    </tr>\n",
       "    <tr>\n",
       "      <th>1</th>\n",
       "      <td>10000000.0</td>\n",
       "      <td>3</td>\n",
       "      <td>52</td>\n",
       "      <td>25762.00</td>\n",
       "      <td>1</td>\n",
       "      <td>0</td>\n",
       "    </tr>\n",
       "    <tr>\n",
       "      <th>2</th>\n",
       "      <td>2000000.0</td>\n",
       "      <td>5</td>\n",
       "      <td>20</td>\n",
       "      <td>57354.85</td>\n",
       "      <td>1</td>\n",
       "      <td>0</td>\n",
       "    </tr>\n",
       "    <tr>\n",
       "      <th>3</th>\n",
       "      <td>486.0</td>\n",
       "      <td>1</td>\n",
       "      <td>0</td>\n",
       "      <td>0.00</td>\n",
       "      <td>2</td>\n",
       "      <td>0</td>\n",
       "    </tr>\n",
       "    <tr>\n",
       "      <th>4</th>\n",
       "      <td>180000.0</td>\n",
       "      <td>0</td>\n",
       "      <td>1</td>\n",
       "      <td>500.00</td>\n",
       "      <td>2</td>\n",
       "      <td>1</td>\n",
       "    </tr>\n",
       "  </tbody>\n",
       "</table>\n",
       "</div>"
      ],
      "text/plain": [
       "   CUS_Month_Income  total_debit_tran_s1  total_debit_tran_s3  \\\n",
       "0         3750000.0                   40                   33   \n",
       "1        10000000.0                    3                   52   \n",
       "2         2000000.0                    5                   20   \n",
       "3             486.0                    1                    0   \n",
       "4          180000.0                    0                    1   \n",
       "\n",
       "   total debit amount for S3  TAR_Desc  Status  \n",
       "0                   52603.27         1       0  \n",
       "1                   25762.00         1       0  \n",
       "2                   57354.85         1       0  \n",
       "3                       0.00         2       0  \n",
       "4                     500.00         2       1  "
      ]
     },
     "execution_count": 35,
     "metadata": {},
     "output_type": "execute_result"
    }
   ],
   "source": [
    "data_imp_feat.head()"
   ]
  },
  {
   "cell_type": "code",
   "execution_count": 36,
   "id": "558dc0cf",
   "metadata": {},
   "outputs": [],
   "source": [
    "X = data_imp_feat.drop(['Status'], axis = 1)\n",
    "y = data_imp_feat['Status']"
   ]
  },
  {
   "cell_type": "code",
   "execution_count": 37,
   "id": "fde4325b",
   "metadata": {},
   "outputs": [],
   "source": [
    "X_train, X_test, y_train, y_test = train_test_split(X, y, train_size= 0.8, random_state= 42)"
   ]
  },
  {
   "cell_type": "code",
   "execution_count": 38,
   "id": "45df7422",
   "metadata": {},
   "outputs": [],
   "source": [
    "rfc.fit(X_train, y_train)\n",
    "\n",
    "y_pred = rfc.predict(X_test)"
   ]
  },
  {
   "cell_type": "code",
   "execution_count": 40,
   "id": "6f5e5575",
   "metadata": {},
   "outputs": [
    {
     "name": "stdout",
     "output_type": "stream",
     "text": [
      "Accuracy Score:  0.9433497536945813\n"
     ]
    }
   ],
   "source": [
    "print('Accuracy Score: ', accuracy_score(y_pred, y_test))"
   ]
  },
  {
   "cell_type": "code",
   "execution_count": 41,
   "id": "5fd89e0d",
   "metadata": {},
   "outputs": [
    {
     "name": "stdout",
     "output_type": "stream",
     "text": [
      "[[186   4]\n",
      " [ 19 197]]\n"
     ]
    }
   ],
   "source": [
    "print(confusion_matrix(y_pred, y_test))"
   ]
  },
  {
   "cell_type": "code",
   "execution_count": 42,
   "id": "8a689368",
   "metadata": {
    "scrolled": true
   },
   "outputs": [
    {
     "name": "stdout",
     "output_type": "stream",
     "text": [
      "              precision    recall  f1-score   support\n",
      "\n",
      "           0       0.91      0.98      0.94       190\n",
      "           1       0.98      0.91      0.94       216\n",
      "\n",
      "    accuracy                           0.94       406\n",
      "   macro avg       0.94      0.95      0.94       406\n",
      "weighted avg       0.95      0.94      0.94       406\n",
      "\n"
     ]
    }
   ],
   "source": [
    "print(classification_report(y_pred, y_test))"
   ]
  },
  {
   "cell_type": "code",
   "execution_count": 46,
   "id": "201fd20e",
   "metadata": {},
   "outputs": [],
   "source": [
    "X_test.to_csv('test.csv', index= False)"
   ]
  },
  {
   "cell_type": "code",
   "execution_count": 44,
   "id": "bf37cec8",
   "metadata": {},
   "outputs": [],
   "source": [
    "import pickle\n",
    "\n",
    "pickle.dump(rfc, open('churn_pred.pkl', 'wb'))"
   ]
  },
  {
   "cell_type": "code",
   "execution_count": 45,
   "id": "1f0c0b31",
   "metadata": {},
   "outputs": [],
   "source": [
    "model = pickle.load(open('churn_pred.pkl', 'rb'))"
   ]
  }
 ],
 "metadata": {
  "kernelspec": {
   "display_name": "MLclass",
   "language": "python",
   "name": "mlclass"
  },
  "language_info": {
   "codemirror_mode": {
    "name": "ipython",
    "version": 3
   },
   "file_extension": ".py",
   "mimetype": "text/x-python",
   "name": "python",
   "nbconvert_exporter": "python",
   "pygments_lexer": "ipython3",
   "version": "3.10.0"
  }
 },
 "nbformat": 4,
 "nbformat_minor": 5
}
